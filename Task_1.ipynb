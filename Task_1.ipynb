{
 "cells": [
  {
   "cell_type": "code",
   "execution_count": 1,
   "metadata": {
    "collapsed": true
   },
   "outputs": [],
   "source": [
    "url = \"https://www.giftcardmall.am/en/all-cards\""
   ]
  },
  {
   "cell_type": "code",
   "execution_count": 116,
   "metadata": {
    "collapsed": false
   },
   "outputs": [],
   "source": [
    "import requests\n",
    "import re\n",
    "from BeautifulSoup import *\n",
    "import json"
   ]
  },
  {
   "cell_type": "code",
   "execution_count": 5,
   "metadata": {
    "collapsed": true
   },
   "outputs": [],
   "source": [
    "response = requests.get(url)\n",
    "page = response.text\n",
    "soup = BeautifulSoup(page)"
   ]
  },
  {
   "cell_type": "code",
   "execution_count": 7,
   "metadata": {
    "collapsed": false
   },
   "outputs": [
    {
     "name": "stdout",
     "output_type": "stream",
     "text": [
      "<Response [200]>\n"
     ]
    }
   ],
   "source": [
    "print response"
   ]
  },
  {
   "cell_type": "code",
   "execution_count": 8,
   "metadata": {
    "collapsed": true
   },
   "outputs": [],
   "source": [
    "urls = soup.findAll('div', attrs={'class': 'card-image'})"
   ]
  },
  {
   "cell_type": "code",
   "execution_count": 43,
   "metadata": {
    "collapsed": false
   },
   "outputs": [],
   "source": [
    "links=[]\n",
    "for i in range(len(urls)):\n",
    "    hre = urls[i].findAll('a')[0]\n",
    "    url= hre.get('href')\n",
    "    links.append(url)"
   ]
  },
  {
   "cell_type": "code",
   "execution_count": 57,
   "metadata": {
    "collapsed": true
   },
   "outputs": [],
   "source": [
    "names = soup.findAll('img', attrs={'class': 'image-border'})"
   ]
  },
  {
   "cell_type": "code",
   "execution_count": 60,
   "metadata": {
    "collapsed": false
   },
   "outputs": [],
   "source": [
    "name=[]\n",
    "for x in names:\n",
    "    y = x.get('alt')\n",
    "    name.append(y)"
   ]
  },
  {
   "cell_type": "code",
   "execution_count": 77,
   "metadata": {
    "collapsed": true
   },
   "outputs": [],
   "source": [
    "partners=[]\n",
    "for i in name:\n",
    "    partner=re.sub(r'(GIFT CARDS)', r'', i)\n",
    "    partners.append(partner)"
   ]
  },
  {
   "cell_type": "code",
   "execution_count": 88,
   "metadata": {
    "collapsed": true
   },
   "outputs": [],
   "source": [
    "sums = soup.findAll('p', attrs={'class': 'card_sum'})"
   ]
  },
  {
   "cell_type": "code",
   "execution_count": 94,
   "metadata": {
    "collapsed": false
   },
   "outputs": [],
   "source": [
    "z=[]\n",
    "for i in sums:\n",
    "    sum = re.findall('[0-9]+',i.text)\n",
    "    z.append(sum)"
   ]
  },
  {
   "cell_type": "code",
   "execution_count": 95,
   "metadata": {
    "collapsed": false
   },
   "outputs": [
    {
     "name": "stdout",
     "output_type": "stream",
     "text": [
      "[[u'5000', u'100000'], [u'10000', u'100000'], [u'25000', u'100000'], [u'10000', u'200000'], [u'20000', u'100000'], [u'5000', u'30000'], [u'50000', u'500000'], [u'5000', u'1000000'], [u'20000', u'500000'], [u'20000', u'500000'], [u'5000', u'200000'], [u'3000', u'200000'], [u'50000', u'300000'], [u'10000', u'50000'], [u'5000', u'50000'], [u'20000', u'200000'], [u'10000', u'50000'], [u'5000', u'100000'], [u'50000', u'150000'], [u'25000', u'500000'], [u'20000', u'30000'], [u'15000', u'100000'], [u'10000', u'50000'], [u'50000', u'500000'], [u'50000', u'1000000'], [u'250000', u'1000000'], [u'20000', u'100000'], [u'20000', u'500000'], [u'80000', u'200000'], [u'25000', u'50000'], [u'10000', u'40000'], [u'20000', u'500000'], [u'50000', u'500000'], [u'15000'], [u'14000', u'20000'], [u'14000', u'20000'], [u'43000'], [u'10000', u'200000'], [u'50000', u'500000'], [u'10000', u'50000'], [u'10000', u'50000'], [u'50000'], [u'30000', u'100000'], [u'5000', u'50000'], [u'10000', u'100000'], [u'20000'], [u'80000', u'250000'], [u'5000', u'200000'], [u'5000', u'100000'], [u'5000', u'100000'], [u'20000', u'200000'], [u'15000', u'500000'], [u'12500', u'32000'], [u'5000', u'15000'], [u'5000', u'100000'], [u'10000', u'30000'], [u'10000', u'30000'], [u'5000', u'100000'], [u'50000', u'500000'], [u'50000', u'500000'], [u'5000', u'100000'], [u'5000', u'50000'], [u'15000', u'100000'], [u'5000', u'50000'], [u'10000', u'50000'], [u'15000', u'30000'], [u'50000', u'125000'], [u'5000', u'100000'], [u'25000', u'200000'], [u'5000', u'100000'], [u'10000', u'200000'], [u'20000', u'500000'], [u'20000', u'100000'], [u'50000', u'90000'], [u'5000', u'100000'], [u'50000', u'400000'], [u'2500', u'100000'], [u'10000', u'100000'], [u'7000', u'100000'], [u'55000', u'125000'], [u'20000', u'55000'], [u'10000', u'20000'], [u'20000', u'60000'], [u'20000', u'50000'], [u'5000', u'50000'], [u'50000', u'500000'], [u'20000', u'40000'], [u'25000', u'50000'], [u'10000', u'100000'], [u'5000', u'50000'], [u'35000', u'150000'], [u'50000', u'450000'], [u'3000', u'500000'], [u'50000', u'500000'], [u'10000'], [u'50000'], [u'25000', u'100000'], [u'5000', u'1000000'], [u'29000', u'37000'], [u'5000', u'100000'], [u'5000', u'50000'], [u'25000', u'100000'], [u'15000'], [u'10000'], [u'13000', u'30000'], [u'20000', u'80000'], [u'30000', u'100000'], [u'7800'], [u'15000', u'100000'], [u'20000', u'50000'], [u'20000', u'100000'], [u'19000', u'200000'], [u'5000', u'100000'], [u'5000', u'50000'], [u'5000', u'30000'], [u'20000'], [u'25000', u'100000'], [u'25000', u'100000'], [u'50000'], [u'25000', u'250000'], [u'5000', u'100000'], [u'15000'], [u'5000', u'100000'], [u'15000'], [u'17000', u'100000'], [u'7000'], [u'15000', u'50000'], [u'3000', u'20000'], [u'5000', u'20000'], [u'5000', u'50000'], [u'25000', u'50000'], [u'5000', u'100000'], [u'2500', u'100000'], [u'10000'], [u'5000', u'50000'], [u'24000', u'42000'], [u'3000', u'50000'], [u'50000', u'500000'], [u'10000', u'20000'], [u'30000', u'100000'], [u'3000', u'50000'], [u'10000', u'100000'], [u'100000', u'300000'], [u'5000', u'20000'], [u'5000', u'100000'], [u'10000', u'100000'], [u'10000', u'100000'], [u'3000', u'10000'], [u'3000', u'15000'], [u'10000'], [u'10000', u'100000'], [u'20000', u'100000'], [u'30000', u'50000'], [u'10000', u'50000'], [u'7000'], [u'10000', u'100000'], [u'50000', u'500000'], [u'55000', u'98000'], [u'25000', u'50000'], [u'15000', u'30000'], [u'10000', u'50000'], [u'10000', u'100000'], [u'16000', u'210000'], [u'90000', u'220000'], [u'7000', u'40000'], [u'50000', u'100000'], [u'5000', u'120000'], [u'45000', u'200000'], [u'5000', u'50000'], [u'5000', u'150000'], [u'10000'], [u'3000', u'100000'], [u'10000', u'50000'], [u'90000', u'150000'], [u'2500', u'100000'], [u'5000', u'100000'], [u'5000', u'20000'], [u'30000', u'100000'], [u'30000', u'100000'], [u'26000', u'104000']]\n"
     ]
    }
   ],
   "source": [
    "print z"
   ]
  },
  {
   "cell_type": "code",
   "execution_count": 100,
   "metadata": {
    "collapsed": false
   },
   "outputs": [
    {
     "name": "stdout",
     "output_type": "stream",
     "text": [
      "5000\n"
     ]
    }
   ],
   "source": [
    "print(int(z[0][0]))"
   ]
  },
  {
   "cell_type": "code",
   "execution_count": 103,
   "metadata": {
    "collapsed": false
   },
   "outputs": [],
   "source": [
    "prices = []\n",
    "for i in z:\n",
    "    if len(i)==2:\n",
    "        price = (int(i[0])+int(i[1]))/2\n",
    "    else:\n",
    "        price = int(i[0])\n",
    "    prices.append(price)"
   ]
  },
  {
   "cell_type": "code",
   "execution_count": 104,
   "metadata": {
    "collapsed": false
   },
   "outputs": [
    {
     "name": "stdout",
     "output_type": "stream",
     "text": [
      "[52500, 55000, 62500, 105000, 60000, 17500, 275000, 502500, 260000, 260000, 102500, 101500, 175000, 30000, 27500, 110000, 30000, 52500, 100000, 262500, 25000, 57500, 30000, 275000, 525000, 625000, 60000, 260000, 140000, 37500, 25000, 260000, 275000, 15000, 17000, 17000, 43000, 105000, 275000, 30000, 30000, 50000, 65000, 27500, 55000, 20000, 165000, 102500, 52500, 52500, 110000, 257500, 22250, 10000, 52500, 20000, 20000, 52500, 275000, 275000, 52500, 27500, 57500, 27500, 30000, 22500, 87500, 52500, 112500, 52500, 105000, 260000, 60000, 70000, 52500, 225000, 51250, 55000, 53500, 90000, 37500, 15000, 40000, 35000, 27500, 275000, 30000, 37500, 55000, 27500, 92500, 250000, 251500, 275000, 10000, 50000, 62500, 502500, 33000, 52500, 27500, 62500, 15000, 10000, 21500, 50000, 65000, 7800, 57500, 35000, 60000, 109500, 52500, 27500, 17500, 20000, 62500, 62500, 50000, 137500, 52500, 15000, 52500, 15000, 58500, 7000, 32500, 11500, 12500, 27500, 37500, 52500, 51250, 10000, 27500, 33000, 26500, 275000, 15000, 65000, 26500, 55000, 200000, 12500, 52500, 55000, 55000, 6500, 9000, 10000, 55000, 60000, 40000, 30000, 7000, 55000, 275000, 76500, 37500, 22500, 30000, 55000, 113000, 155000, 23500, 75000, 62500, 122500, 27500, 77500, 10000, 51500, 30000, 120000, 51250, 52500, 12500, 65000, 65000, 65000]\n"
     ]
    }
   ],
   "source": [
    "print prices"
   ]
  },
  {
   "cell_type": "code",
   "execution_count": 108,
   "metadata": {
    "collapsed": false
   },
   "outputs": [
    {
     "data": {
      "text/plain": [
       "180"
      ]
     },
     "execution_count": 108,
     "metadata": {},
     "output_type": "execute_result"
    }
   ],
   "source": [
    "len (prices)"
   ]
  },
  {
   "cell_type": "code",
   "execution_count": 113,
   "metadata": {
    "collapsed": false
   },
   "outputs": [],
   "source": [
    "data = []\n",
    "for i in range(180):\n",
    "    data.append({'name': partners[i],'link':links[i],'price':prices[i]})"
   ]
  },
  {
   "cell_type": "code",
   "execution_count": 118,
   "metadata": {
    "collapsed": false
   },
   "outputs": [],
   "source": [
    "with open('mall.json', 'w') as f:\n",
    "    json.dump(data, f, sort_keys=True, indent=4)"
   ]
  },
  {
   "cell_type": "code",
   "execution_count": null,
   "metadata": {
    "collapsed": true
   },
   "outputs": [],
   "source": []
  }
 ],
 "metadata": {
  "kernelspec": {
   "display_name": "Python 2",
   "language": "python",
   "name": "python2"
  },
  "language_info": {
   "codemirror_mode": {
    "name": "ipython",
    "version": 2
   },
   "file_extension": ".py",
   "mimetype": "text/x-python",
   "name": "python",
   "nbconvert_exporter": "python",
   "pygments_lexer": "ipython2",
   "version": "2.7.13"
  }
 },
 "nbformat": 4,
 "nbformat_minor": 2
}

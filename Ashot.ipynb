{
 "cells": [
  {
   "cell_type": "code",
   "execution_count": 8,
   "metadata": {
    "collapsed": false
   },
   "outputs": [
    {
     "name": "stdout",
     "output_type": "stream",
     "text": [
      "Please, write numbers separated by commas160,71,55\n",
      "95.3333333333\n"
     ]
    }
   ],
   "source": [
    "numbers=input (\"Please, write numbers separated by commas\")\n",
    "def avarage(numbers):\n",
    "    return float(sum(numbers))/len(numbers)\n",
    "print avarage(numbers)"
   ]
  },
  {
   "cell_type": "code",
   "execution_count": 7,
   "metadata": {
    "collapsed": false,
    "scrolled": true
   },
   "outputs": [
    {
     "name": "stdout",
     "output_type": "stream",
     "text": [
      "Please, write numbers separated by commas1,3,5,7,9\n",
      "Please, write numbers of occurrences3\n",
      "7.0\n"
     ]
    }
   ],
   "source": [
    "numbers=input (\"Please, write numbers separated by commas\")\n",
    "x= input(\"Please, write numbers of occurrences\")\n",
    "def avarage(numbers,x):\n",
    "    return float (sum(numbers[-x:])/x)\n",
    "print avarage(numbers,x)"
   ]
  },
  {
   "cell_type": "code",
   "execution_count": 23,
   "metadata": {
    "collapsed": true
   },
   "outputs": [],
   "source": [
    "import random"
   ]
  },
  {
   "cell_type": "code",
   "execution_count": 31,
   "metadata": {
    "collapsed": false
   },
   "outputs": [
    {
     "name": "stdout",
     "output_type": "stream",
     "text": [
      "win\n",
      "83\n"
     ]
    }
   ],
   "source": [
    "x=random.randint(1,100)\n",
    "def game(x):\n",
    "    if x<=50:\n",
    "        return \"loss\"\n",
    "    elif x==100:\n",
    "        return \"draw\"\n",
    "    else:\n",
    "        return \"win\"\n",
    "print game(x)\n",
    "print x"
   ]
  },
  {
   "cell_type": "code",
   "execution_count": 32,
   "metadata": {
    "collapsed": true
   },
   "outputs": [],
   "source": [
    "import pandas_datareader.data as web"
   ]
  },
  {
   "cell_type": "code",
   "execution_count": 34,
   "metadata": {
    "collapsed": false
   },
   "outputs": [
    {
     "name": "stdout",
     "output_type": "stream",
     "text": [
      "             Open   High    Low  Close    Volume\n",
      "Date                                            \n",
      "2010-06-29  19.00  25.00  17.54  23.89  18783276\n",
      "2010-06-30  25.79  30.42  23.30  23.83  17194394\n",
      "2010-07-01  25.00  25.92  20.27  21.96   8229863\n",
      "2010-07-02  23.00  23.10  18.71  19.20   5141807\n",
      "2010-07-06  20.00  20.00  15.83  16.11   6879296\n",
      "2010-07-07  16.40  16.63  14.98  15.80   6924914\n",
      "2010-07-08  16.14  17.52  15.57  17.46   7719539\n",
      "             Open   High    Low  Close     Volume\n",
      "Date                                             \n",
      "2010-01-04  30.49  30.64  30.34  30.57  123432050\n",
      "2010-01-05  30.66  30.80  30.46  30.63  150476004\n",
      "2010-01-06  30.63  30.75  30.11  30.14  138039594\n",
      "2010-01-07  30.25  30.29  29.86  30.08  119282324\n",
      "2010-01-08  30.04  30.29  29.87  30.28  111969081\n",
      "2010-01-11  30.40  30.43  29.78  30.02  115557365\n",
      "2010-01-12  29.88  29.97  29.49  29.67  148614774\n",
      "             Open   High    Low  Close   Volume\n",
      "Date                                           \n",
      "2010-01-04  31.82  32.46  31.82  32.05  1808170\n",
      "2010-01-05  31.96  32.41  31.78  32.31  1564182\n",
      "2010-01-06  32.45  33.04  32.36  32.81  2218604\n",
      "2010-01-07  32.65  33.20  32.38  33.10  2026145\n",
      "2010-01-08  33.34  33.43  32.52  32.66  1925894\n",
      "2010-01-11  33.00  33.05  32.11  32.17  2157825\n",
      "2010-01-12  32.26  32.26  31.10  31.24  3181836\n"
     ]
    }
   ],
   "source": [
    "my_list=['TSLA','AAPL','ETR:BMW']\n",
    "for x in my_list:\n",
    "    stock=web.DataReader(x,\"google\")\n",
    "    print stock.head(7)"
   ]
  },
  {
   "cell_type": "code",
   "execution_count": 39,
   "metadata": {
    "collapsed": false
   },
   "outputs": [
    {
     "data": {
      "image/png": "[encoded data removed]",
      "text/plain": [
       "<matplotlib.figure.Figure at 0xadcbcc0>"
      ]
     },
     "metadata": {},
     "output_type": "display_data"
    },
    {
     "name": "stdout",
     "output_type": "stream",
     "text": [
      "None\n"
     ]
    }
   ],
   "source": [
    "import matplotlib.pyplot as plt\n",
    "my_list=['TSLA','AAPL','ETR:BMW']\n",
    "for x in my_list:\n",
    "    stock=plt.plot(web.DataReader(x,\"google\")[\"Close\"])\n",
    "print plt.show()"
   ]
  },
  {
   "cell_type": "code",
   "execution_count": null,
   "metadata": {
    "collapsed": true
   },
   "outputs": [],
   "source": []
  }
 ],
 "metadata": {
  "kernelspec": {
   "display_name": "Python 2",
   "language": "python",
   "name": "python2"
  },
  "language_info": {
   "codemirror_mode": {
    "name": "ipython",
    "version": 2
   },
   "file_extension": ".py",
   "mimetype": "text/x-python",
   "name": "python",
   "nbconvert_exporter": "python",
   "pygments_lexer": "ipython2",
   "version": "2.7.13"
  }
 },
 "nbformat": 4,
 "nbformat_minor": 2
}
